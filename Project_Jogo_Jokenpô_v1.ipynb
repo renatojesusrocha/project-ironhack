{
 "cells": [
  {
   "cell_type": "code",
   "execution_count": null,
   "id": "5b3823b0",
   "metadata": {
    "colab": {
     "base_uri": "https://localhost:8080/"
    },
    "id": "5b3823b0",
    "outputId": "30ac04f3-7acd-42e1-dc02-370f2380c303"
   },
   "outputs": [
    {
     "name": "stdout",
     "output_type": "stream",
     "text": [
      "Collecting emoji\n",
      "  Downloading emoji-1.6.3.tar.gz (174 kB)\n",
      "\u001b[K     |████████████████████████████████| 174 kB 28.2 MB/s \n",
      "\u001b[?25hBuilding wheels for collected packages: emoji\n",
      "  Building wheel for emoji (setup.py) ... \u001b[?25l\u001b[?25hdone\n",
      "  Created wheel for emoji: filename=emoji-1.6.3-py3-none-any.whl size=170298 sha256=06baeb5f90782c3d7f5abc2b0fb09b69ed904df781e70bf6699f6141a452b194\n",
      "  Stored in directory: /root/.cache/pip/wheels/03/8b/d7/ad579fbef83c287215c0caab60fb0ae0f30c4d7ce5f580eade\n",
      "Successfully built emoji\n",
      "Installing collected packages: emoji\n",
      "Successfully installed emoji-1.6.3\n"
     ]
    }
   ],
   "source": [
    "pip install emoji #Intalando o EMOJI "
   ]
  },
  {
   "cell_type": "code",
   "execution_count": null,
   "id": "e9e3b991",
   "metadata": {
    "colab": {
     "base_uri": "https://localhost:8080/"
    },
    "id": "e9e3b991",
    "outputId": "e297019e-d0a9-41c1-da22-a554528dfc6b",
    "scrolled": true
   },
   "outputs": [],
   "source": [
    "from random import randint #importando a biblioteca random, com o módulo randint para que a CPU consiga jogar uma ação randomica. \n",
    "from time import sleep #importando a biblioteca time para fazermos o espaçamento de ações/ falas no JOKENPô.\n",
    "import emoji #Importando a biblioteca EMOJI que instalei logo acima. \n",
    "\n",
    "\n",
    "#Estou utilizando 'use_aliases' para aumentar a minha biblioteca de emoji\n",
    "#Adicinei novos emojis com códigos diferentes, peguei através desse link: https://www.webfx.com/tools/emoji-cheat-sheet/\n",
    "# :facepunch: = Pedra \n",
    "# :raised_hand: - Papel \n",
    "# :v: - Tesoura \n",
    "\n",
    "itens = (emoji.emojize(':facepunch:', use_aliases=True,), emoji.emojize(':raised_hand:', use_aliases=True), emoji.emojize(':v:', use_aliases=True))\n",
    "\n",
    "rodadas = 0\n",
    "partidas = int(input('Quantas rodadas você quer jogar?'))\n",
    "jogada1 = 0 #Jogador (Eu)\n",
    "jogada2 = 0 #Jogador (CPU)\n",
    "jogada3 = 0 #Jogadores empatados \n",
    "\n",
    "while rodadas < partidas: \n",
    "  print(rodadas)\n",
    "  rodadas +=1 \n",
    "  print ('\\033[1m'+'Olá, que tal jogarmos JOKENPÔ?'+'\\033[0m')\n",
    "  sleep(2.0)\n",
    "  print('''São apenas 3 opções, então escolha com sabedoria:\n",
    "  Digite 0 para escolher Pedra; \n",
    "  Digite 1 para escolher Papel; \n",
    "  Digite 2 para escolher Tesoura.''')\n",
    "  jogador = int(input('Escolha sua jogada: ')) #Dando a chance de escolha do jogador.\n",
    "  computador = randint (0,2) #Criando a variável que o computador vai jogar entre 0 e 2\n",
    "  print('JO')\n",
    "  sleep(0.5)\n",
    "  print('KEN')\n",
    "  sleep(0.5)\n",
    "  print('PÔ!!!')\n",
    "  sleep(0.5)\n",
    "\n",
    "  print ('- '*13)\n",
    "  print ('O jogador escolheu {}.'.format(itens[jogador]))\n",
    "  print ('O computador escolheu {}.'.format(itens[computador]))\n",
    "  print ('- '*13)\n",
    "\n",
    "\n",
    "  if computador == 0: #Se a CPU jogar Pedra, quais ações devo ter?\n",
    "      if jogador == 0: # Se a CPU jogou pedra e eu joguei pedra, aparecerá um print de EMPATE.\n",
    "          jogada3+=1\n",
    "          print(emoji.emojize('Nós pensamos iguais! :smile: ',use_aliases=True))\n",
    "      elif jogador == 1:\n",
    "          jogada1+=1\n",
    "          print(emoji.emojize('Você venceu! Mas isso só foi um descuido meu. :flushed:',use_aliases=True))\n",
    "      elif jogador == 2:\n",
    "          jogada2+=1\n",
    "          print(emoji.emojize('Viu? Eu sempre ganho uma competição. :grinning:',use_aliases=True))\n",
    "      else:\n",
    "          print(emoji.emojize(':no_entry_sign: ALERTA, ALERTA!!! A sua jogada está inválida.',use_aliases=True))\n",
    "\n",
    "  elif computador == 1: #Se a CPU jogou PAPEL, ações:\n",
    "      if jogador == 0:\n",
    "          jogada2+=1\n",
    "          print('Nossa deve ser difícil lidar com tantas derrotas. Coloca mais uma na sua conta.')\n",
    "      elif jogador == 1:\n",
    "          jogada3+=1\n",
    "          print('Depois da derrota, o pior resultado é o EMPATE.')\n",
    "      elif jogador == 2:\n",
    "          jogada1+=1\n",
    "          print('Você venceu... Mas será que ganha a próxima?')\n",
    "      else:\n",
    "          print(emoji.emojize(':no_entry_sign: ALERTA, ALERTA!!! A sua jogada está inválida.',use_aliases=True))\n",
    "\n",
    "  elif computador == 2: #Se a CPU jogou tesoura. \n",
    "      if jogador == 0:\n",
    "          jogada1+=1\n",
    "          print('Parabéns, até que enfim uma vitória.')\n",
    "      elif jogador == 1:\n",
    "          jogada2+=1      \n",
    "          print('EU 7 e você 1. KKKKK Mais uma vez eu ganhei.')\n",
    "      elif jogador == 2:\n",
    "          jogada3+=1\n",
    "          print('EMPATE')\n",
    "      else:\n",
    "          print(emoji.emojize(':no_entry_sign: ALERTA, ALERTA!!! A sua jogada está inválida.',use_aliases=True))\n",
    "\n",
    "print('- '*13)\n",
    "print('\\033[42;1;33m'+'Placar:'+'\\033[0;0m')\n",
    "print('Jogador {}.'.format(jogada1))\n",
    "print('Computador {}.'.format(jogada2))\n",
    "print('Empate {}.'.format(jogada3))\n",
    "print ('- '*13)"
   ]
  }
 ],
 "metadata": {
  "colab": {
   "collapsed_sections": [],
   "name": "Project - Jogo - Jokenpô (2).ipynb",
   "provenance": []
  },
  "kernelspec": {
   "display_name": "Python 3 (ipykernel)",
   "language": "python",
   "name": "python3"
  },
  "language_info": {
   "codemirror_mode": {
    "name": "ipython",
    "version": 3
   },
   "file_extension": ".py",
   "mimetype": "text/x-python",
   "name": "python",
   "nbconvert_exporter": "python",
   "pygments_lexer": "ipython3",
   "version": "3.9.7"
  }
 },
 "nbformat": 4,
 "nbformat_minor": 5
}
